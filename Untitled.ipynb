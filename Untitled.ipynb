{
 "cells": [
  {
   "cell_type": "code",
   "execution_count": null,
   "metadata": {},
   "outputs": [
    {
     "name": "stdout",
     "output_type": "stream",
     "text": [
      "             SG Mall             \n"
     ]
    }
   ],
   "source": [
    "import datetime\n",
    "import random\n",
    "import os\n",
    "\n",
    "\n",
    "#Global Variables\n",
    "print(\"             SG Mall             \")\n",
    "product_list = []\n",
    "price_list = []\n",
    "quantity_list = []\n",
    "final_price = []\n",
    "total = 0\n",
    "\n",
    "serial = random.randint(100, 10000)\n",
    "date = datetime.date.today()\n",
    "customer_name = input(\"Customer name : \")\n",
    "customer_mobile = input(\"Mobile Number : \")\n",
    "\n",
    "\n",
    "def purchase():\n",
    "    while True:\n",
    "        product_name = input(\"Enter Product name : \")\n",
    "        product_price = int(input(\"Enter price : \"))\n",
    "        quantity = int(input(\"Quantity : \"))\n",
    "        if product_name == 'no' and product_price == quantity == 0:\n",
    "            break\n",
    "        product_list.append(product_name)\n",
    "        price_list.append(product_price)\n",
    "        quantity_list.append(quantity)\n",
    "\n",
    "def Finalprice():\n",
    "    for i in range(len(price_list)):\n",
    "        final_price.append(price_list[i]*quantity_list[i])\n",
    "\n",
    "\n",
    "def Invoice():\n",
    "    print(\"           ****  Invoice  ****            \")\n",
    "    print(\"SN :\", serial, \"    Date : \", date)\n",
    "    print(\"Name : \", customer_name)\n",
    "    print(\"Phone : \", customer_mobile)\n",
    "    for i in range(len(product_list)):\n",
    "        print(\"Item : \",product_list[i],\"|\",\"Quantity : \",quantity_list[i],\"|\",\"Price :\",quantity_list[i],\"*\",price_list[i], \" = \",final_price[i])\n",
    "    return print(\"Total amount : \",sum(final_price))\n",
    "\n",
    "\n",
    "purchase()\n",
    "Finalprice()\n",
    "os.system('cls')\n",
    "Invoice()\n",
    "print(\"           **** Thank You! ****            \")"
   ]
  },
  {
   "cell_type": "code",
   "execution_count": null,
   "metadata": {},
   "outputs": [],
   "source": []
  }
 ],
 "metadata": {
  "kernelspec": {
   "display_name": "Python 3",
   "language": "python",
   "name": "python3"
  },
  "language_info": {
   "codemirror_mode": {
    "name": "ipython",
    "version": 3
   },
   "file_extension": ".py",
   "mimetype": "text/x-python",
   "name": "python",
   "nbconvert_exporter": "python",
   "pygments_lexer": "ipython3",
   "version": "3.8.3"
  }
 },
 "nbformat": 4,
 "nbformat_minor": 4
}
